{
  "nbformat": 4,
  "nbformat_minor": 0,
  "metadata": {
    "colab": {
      "provenance": [],
      "include_colab_link": true
    },
    "kernelspec": {
      "name": "python3",
      "display_name": "Python 3"
    },
    "language_info": {
      "name": "python"
    }
  },
  "cells": [
    {
      "cell_type": "markdown",
      "metadata": {
        "id": "view-in-github",
        "colab_type": "text"
      },
      "source": [
        "<a href=\"https://colab.research.google.com/github/yblee-jax/AIFFEL_Online_Quest/blob/main/Quest01/Quest_test_01.ipynb\" target=\"_parent\"><img src=\"https://colab.research.google.com/assets/colab-badge.svg\" alt=\"Open In Colab\"/></a>"
      ]
    },
    {
      "cell_type": "code",
      "execution_count": null,
      "metadata": {
        "colab": {
          "base_uri": "https://localhost:8080/"
        },
        "id": "WbHWlRdD406_",
        "outputId": "8c631741-9374-4b42-dfa1-3b6409800465"
      },
      "outputs": [
        {
          "output_type": "stream",
          "name": "stdout",
          "text": [
            "Hello World, 정은!\n"
          ]
        }
      ],
      "source": [
        "print('Hello World, 정은!')"
      ]
    },
    {
      "cell_type": "code",
      "source": [
        "print('Hello World, 영빈!')"
      ],
      "metadata": {
        "id": "UdUxUD0y5WbK",
        "colab": {
          "base_uri": "https://localhost:8080/"
        },
        "outputId": "5388c9d5-62c7-4c71-af12-351d5e49b3ba"
      },
      "execution_count": 1,
      "outputs": [
        {
          "output_type": "stream",
          "name": "stdout",
          "text": [
            "Hello World, 영빈!\n"
          ]
        }
      ]
    },
    {
      "cell_type": "code",
      "source": [],
      "metadata": {
        "id": "TTs34pUT5qBx"
      },
      "execution_count": null,
      "outputs": []
    }
  ]
}